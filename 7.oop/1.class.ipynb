{
 "cells": [
  {
   "cell_type": "markdown",
   "metadata": {},
   "source": [
    "## Defining a class"
   ]
  },
  {
   "cell_type": "code",
   "execution_count": null,
   "metadata": {},
   "outputs": [],
   "source": [
    "class Enemy:\n",
    "    life =3\n",
    "    energy = 10\n",
    "\n",
    "print(Enemy.life)\n",
    "print(Enemy.energy)"
   ]
  },
  {
   "cell_type": "markdown",
   "metadata": {},
   "source": [
    "## class method"
   ]
  },
  {
   "cell_type": "code",
   "execution_count": null,
   "metadata": {},
   "outputs": [],
   "source": [
    "class Enemy:\n",
    "    life = 3\n",
    "\n",
    "    def attack():\n",
    "        print(\"life\")\n",
    "\n",
    "print(Enemy.life)\n",
    "Enemy.attack()"
   ]
  },
  {
   "cell_type": "code",
   "execution_count": null,
   "metadata": {},
   "outputs": [],
   "source": [
    "class Enemy:\n",
    "    life = 3\n",
    "\n",
    "    @classmethod\n",
    "    def attack(cls):\n",
    "        print(cls.life)\n",
    "\n",
    "# Access class attribute\n",
    "print(Enemy.life)\n",
    "\n",
    "# Call class method\n",
    "Enemy.attack()"
   ]
  },
  {
   "cell_type": "markdown",
   "metadata": {},
   "source": [
    "## Data Classes"
   ]
  },
  {
   "cell_type": "code",
   "execution_count": null,
   "metadata": {},
   "outputs": [],
   "source": [
    "from dataclasses import dataclass\n",
    "\n",
    "@dataclass\n",
    "class Person:\n",
    "    name: str\n",
    "    age: int\n",
    "    email: str\n",
    "\n",
    "person = Person(name=\"Alice\", age=30, email=\"alice@example.com\")\n",
    "\n",
    "print(person.name)  # Output: Alice\n",
    "print(person.age)   # Output: 30\n",
    "print(person.email) # Output: alice@example.com\n",
    "\n",
    "print(person)  # Output: Person(name='Alice', age=30, email='alice@example.com')\n"
   ]
  },
  {
   "cell_type": "markdown",
   "metadata": {},
   "source": [
    "## Enum Class"
   ]
  },
  {
   "cell_type": "code",
   "execution_count": null,
   "metadata": {},
   "outputs": [],
   "source": [
    "from enum import Enum\n",
    "\n",
    "class Color(Enum):\n",
    "    RED = 1\n",
    "    GREEN = 2\n",
    "    BLUE = 3\n",
    "\n",
    "# Accessing enum members\n",
    "print(Color.RED)        # Output: Color.RED\n",
    "print(Color.GREEN)      # Output: Color.GREEN\n",
    "print(Color.BLUE)       # Output: Color.BLUE\n",
    "\n",
    "# Getting the name and value of an enum member\n",
    "print(Color.RED.name)   # Output: RED\n",
    "print(Color.RED.value)  # Output: 1\n",
    "\n",
    "# Iterating over enum members\n",
    "for color in Color:\n",
    "    print(color)\n"
   ]
  },
  {
   "cell_type": "code",
   "execution_count": null,
   "metadata": {},
   "outputs": [],
   "source": [
    "from enum import Enum\n",
    "\n",
    "class Color(Enum):\n",
    "    RED = 1\n",
    "    GREEN = 2\n",
    "    BLUE = 3\n",
    "\n",
    "# Accessing enumeration members\n",
    "print(Color.RED)      # Output: Color.RED\n",
    "print(Color.GREEN)    # Output: Color.GREEN\n",
    "print(Color.BLUE)     # Output: Color.BLUE\n",
    "\n",
    "# Accessing the name and value of an enumeration member\n",
    "print(Color.RED.name)  # Output: RED\n",
    "print(Color.RED.value) # Output: 1\n",
    "\n",
    "# Iterating over the members of an enumeration\n",
    "for color in Color:\n",
    "    print(color)\n",
    "\n",
    "# Comparing enumeration members\n",
    "print(Color.RED == Color.RED)   # Output: True\n",
    "print(Color.RED == Color.GREEN) # Output: False\n"
   ]
  },
  {
   "cell_type": "code",
   "execution_count": null,
   "metadata": {},
   "outputs": [],
   "source": [
    "from enum import Enum\n",
    "\n",
    "class Color(Enum):\n",
    "    RED = 1\n",
    "    GREEN = 2\n",
    "    BLUE = 3\n",
    "\n",
    "    def is_primary(self):\n",
    "        return self in (Color.RED, Color.GREEN, Color.BLUE)\n",
    "\n",
    "# Using the is_primary method\n",
    "print(Color.RED.is_primary())   # Output: True\n",
    "print(Color.GREEN.is_primary()) # Output: True\n",
    "print(Color.BLUE.is_primary())  # Output: True\n"
   ]
  },
  {
   "cell_type": "code",
   "execution_count": null,
   "metadata": {},
   "outputs": [],
   "source": [
    "from enum import Enum\n",
    "\n",
    "class Status(Enum):\n",
    "    PENDING = \"pending\"\n",
    "    ACTIVE = \"active\"\n",
    "    INACTIVE = \"inactive\"\n",
    "\n",
    "# Accessing enumeration members\n",
    "print(Status.PENDING)      # Output: Status.PENDING\n",
    "print(Status.PENDING.value) # Output: pending\n"
   ]
  }
 ],
 "metadata": {
  "kernelspec": {
   "display_name": "env",
   "language": "python",
   "name": "python3"
  },
  "language_info": {
   "codemirror_mode": {
    "name": "ipython",
    "version": 3
   },
   "file_extension": ".py",
   "mimetype": "text/x-python",
   "name": "python",
   "nbconvert_exporter": "python",
   "pygments_lexer": "ipython3",
   "version": "3.10.12"
  }
 },
 "nbformat": 4,
 "nbformat_minor": 2
}
