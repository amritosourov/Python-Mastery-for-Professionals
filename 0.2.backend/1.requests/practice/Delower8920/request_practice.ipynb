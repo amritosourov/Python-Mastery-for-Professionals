{
 "cells": [
  {
   "cell_type": "code",
   "execution_count": null,
   "metadata": {},
   "outputs": [],
   "source": [
    "import requests \n",
    "\n",
    "base_url = \"http://httpbin.org\"\n",
    "\n",
    "response = requests.get(base_url + \"/get\")\n",
    "headers = {\"User-Agent\": \"something_else\"}\n",
    "response = response.json()\n",
    "\n",
    "del response[\"origin\"]\n",
    "            \n",
    "print(response)"
   ]
  },
  {
   "cell_type": "code",
   "execution_count": null,
   "metadata": {},
   "outputs": [],
   "source": [
    "import requests\n",
    "url = \"https://w3schools.com/python/demopage.htm\" \n",
    "x = requests.get(url)\n",
    "print(x.apparent_encoding) "
   ]
  },
  {
   "cell_type": "code",
   "execution_count": null,
   "metadata": {},
   "outputs": [],
   "source": [
    "import requests \n",
    "url = \"https://w3schools.com/python/demopage.htm\"\n",
    "x = requests.get(url)\n",
    "\n",
    "\n",
    "x.close()"
   ]
  },
  {
   "cell_type": "code",
   "execution_count": null,
   "metadata": {},
   "outputs": [],
   "source": [
    "import requests \n",
    "\n",
    "url = \"https://w3schools.com/python/demopage.htm\"    \n",
    "\n",
    "x = requests.get(url)\n",
    "print(x.content)"
   ]
  },
  {
   "cell_type": "code",
   "execution_count": null,
   "metadata": {},
   "outputs": [],
   "source": [
    "import requests \n",
    "\n",
    "url = \"https://w3schools.com/python/demopage.htm\"    \n",
    "\n",
    "x = requests.get(url)\n",
    "print(x.cookies)  "
   ]
  },
  {
   "cell_type": "code",
   "execution_count": null,
   "metadata": {},
   "outputs": [],
   "source": [
    "import requests \n",
    "\n",
    "url = \"https://w3schools.com/python/demopage.htm\"    \n",
    "\n",
    "x = requests.get(url)\n",
    "\n",
    "print(x.elapsed)"
   ]
  },
  {
   "cell_type": "code",
   "execution_count": null,
   "metadata": {},
   "outputs": [],
   "source": [
    "import requests \n",
    "\n",
    "url = \"https://w3schools.com/python/demopage.htm\"    \n",
    "\n",
    "x = requests.get(url) \n",
    "\n",
    "print(x.encoding)"
   ]
  },
  {
   "cell_type": "code",
   "execution_count": null,
   "metadata": {},
   "outputs": [],
   "source": [
    "import requests \n",
    "\n",
    "url = \"https://w3schools.com/python/demopage.htm\"    \n",
    "\n",
    "x = requests.get(url) \n",
    "\n",
    "print(x.headers)"
   ]
  },
  {
   "cell_type": "code",
   "execution_count": 2,
   "metadata": {},
   "outputs": [
    {
     "name": "stdout",
     "output_type": "stream",
     "text": [
      "[]\n"
     ]
    }
   ],
   "source": [
    "import requests \n",
    "\n",
    "url = \"https://www.w3schools.com/python/demopage.htm\"    \n",
    "\n",
    "x = requests.get(url) \n",
    "\n",
    "print(x.history)              # to get history about the module "
   ]
  },
  {
   "cell_type": "code",
   "execution_count": 1,
   "metadata": {},
   "outputs": [
    {
     "name": "stdout",
     "output_type": "stream",
     "text": [
      "False\n"
     ]
    }
   ],
   "source": [
    "import requests \n",
    "\n",
    "url = \"https://www.w3schools.com/python/demopage.htm\"    \n",
    "\n",
    "x = requests.get(url) \n",
    "\n",
    "print(x.is_permanent_redirect)       # to get the result is it true or flase"
   ]
  },
  {
   "cell_type": "code",
   "execution_count": null,
   "metadata": {},
   "outputs": [],
   "source": [
    "import requests \n",
    "\n",
    "url = \"https://www.w3schools.com/python/demopage.htm\"    \n",
    "\n",
    "x = requests.get(url) \n",
    "\n",
    "print(x.is_redirect)      #"
   ]
  }
 ],
 "metadata": {
  "kernelspec": {
   "display_name": "Python 3",
   "language": "python",
   "name": "python3"
  },
  "language_info": {
   "codemirror_mode": {
    "name": "ipython",
    "version": 3
   },
   "file_extension": ".py",
   "mimetype": "text/x-python",
   "name": "python",
   "nbconvert_exporter": "python",
   "pygments_lexer": "ipython3",
   "version": "3.12.3"
  }
 },
 "nbformat": 4,
 "nbformat_minor": 2
}
