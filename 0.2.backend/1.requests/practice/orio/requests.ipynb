{
 "cells": [
  {
   "cell_type": "code",
   "execution_count": null,
   "metadata": {},
   "outputs": [],
   "source": [
    "import requests\n",
    "\n",
    "r = requests.get(\"https://xkcd.com/353/\")\n",
    "print(r.text)"
   ]
  },
  {
   "cell_type": "code",
   "execution_count": null,
   "metadata": {},
   "outputs": [],
   "source": []
  },
  {
   "cell_type": "code",
   "execution_count": null,
   "metadata": {},
   "outputs": [],
   "source": [
    "import requests\n",
    "\n",
    "r= requests.get(\"https://unsplash.com/photos/black-flat-screen-computer-monitor-8qEB0fTe9Vw\")\n",
    "\n",
    "print (r.content)\n",
    "\n",
    "\n",
    "\n",
    "import requests\n",
    "\n",
    "r= requests.get(\"https://unsplash.com/photos/black-flat-screen-computer-monitor-8qEB0fTe9Vw\")\n",
    "\n",
    "print (r.text)\n",
    "\n",
    "\n",
    "\n",
    "import requests\n",
    "\n",
    "r= requests.get(\"https://youtu.be/kqtD5dpn9C8?si=QUFdgd7Lh-egUDpk\")\n",
    "\n",
    "print(r.content)\n",
    "\n",
    "\n",
    "import requests\n",
    "\n",
    "r= requests.get(\"https://youtu.be/kqtD5dpn9C8?si=QUFdgd7Lh-egUDpk\")\n",
    "\n",
    "print(r.content)"
   ]
  },
  {
   "cell_type": "code",
   "execution_count": null,
   "metadata": {},
   "outputs": [],
   "source": [
    "import requests\n",
    "\n",
    "response = requests.get(\"https://httpbin.org/get\")\n",
    "\n",
    "res_json = response.json()\n",
    "\n",
    "del res_json['origin']\n",
    "\n",
    "print(res_json)"
   ]
  },
  {
   "cell_type": "code",
   "execution_count": null,
   "metadata": {},
   "outputs": [],
   "source": []
  }
 ],
 "metadata": {
  "kernelspec": {
   "display_name": "Python 3",
   "language": "python",
   "name": "python3"
  },
  "language_info": {
   "codemirror_mode": {
    "name": "ipython",
    "version": 3
   },
   "file_extension": ".py",
   "mimetype": "text/x-python",
   "name": "python",
   "nbconvert_exporter": "python",
   "pygments_lexer": "ipython3",
   "version": "3.12.4"
  }
 },
 "nbformat": 4,
 "nbformat_minor": 2
}
