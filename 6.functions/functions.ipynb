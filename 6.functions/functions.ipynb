{
 "cells": [
  {
   "cell_type": "code",
   "execution_count": null,
   "metadata": {},
   "outputs": [],
   "source": [
    "def myfunction():\n",
    "    print(\"This is from a fuction\")\n",
    "\n",
    "myfunction()"
   ]
  },
  {
   "cell_type": "code",
   "execution_count": null,
   "metadata": {},
   "outputs": [],
   "source": [
    "def add(x,y,z,p,w):\n",
    "    print(\"x is %s, y is %s, z is %s, p is %s, w is %s\" %(x,y,z,p,w))\n",
    "    return x+y+z+p+w \n",
    "add(5,6,3,4,2)\n"
   ]
  },
  {
   "cell_type": "code",
   "execution_count": null,
   "metadata": {},
   "outputs": [],
   "source": [
    "def exampleFunction():\n",
    "    x = 10\n",
    "    print(x)\n",
    "    if x ==10:\n",
    "        print(\"my statement is true\")\n",
    "\n",
    "exampleFunction()"
   ]
  },
  {
   "cell_type": "code",
   "execution_count": null,
   "metadata": {},
   "outputs": [],
   "source": []
  },
  {
   "cell_type": "code",
   "execution_count": null,
   "metadata": {},
   "outputs": [],
   "source": [
    "def calculate(x,y):\n",
    "    print(x+y)\n",
    "\n",
    "calculate(2,6)"
   ]
  },
  {
   "cell_type": "code",
   "execution_count": null,
   "metadata": {},
   "outputs": [],
   "source": [
    "calculate(4, 7)"
   ]
  },
  {
   "cell_type": "code",
   "execution_count": null,
   "metadata": {},
   "outputs": [],
   "source": [
    "def happy_bithday(name, age, case):\n",
    "    print(f\"Happy Birthday to you {name}!\")\n",
    "    print(f\"You were {age} years old yesterday.\")\n",
    "    print(f\"Congratulation, for your {case} years old!\")\n",
    "    if case >= 18:\n",
    "        print(f\"Hey, you {name} , you are mature!\")\n",
    "    elif case < 18:\n",
    "        print(f\"you,{name},you are not mature! Afere {18-case} year you will be mature!\")\n",
    "    print()\n",
    " \n",
    "happy_bithday(\"opu\", 22, 23)\n",
    "happy_bithday(\"likhon\", 12,13)\n",
    "happy_bithday(\"Alice\",17,18)"
   ]
  }
 ],
 "metadata": {
  "kernelspec": {
   "display_name": "Python 3",
   "language": "python",
   "name": "python3"
  },
  "language_info": {
   "codemirror_mode": {
    "name": "ipython",
    "version": 3
   },
   "file_extension": ".py",
   "mimetype": "text/x-python",
   "name": "python",
   "nbconvert_exporter": "python",
   "pygments_lexer": "ipython3",
   "version": "3.12.3"
  }
 },
 "nbformat": 4,
 "nbformat_minor": 2
}
