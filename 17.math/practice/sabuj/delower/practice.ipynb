{
 "cells": [
  {
   "cell_type": "code",
   "execution_count": null,
   "metadata": {},
   "outputs": [],
   "source": [
    "import math\n",
    "\n",
    "def area_circle(radius):\n",
    "    return math.pi * radius ** 2\n",
    "\n",
    "def area_rectangle(length, width):\n",
    "    return length * width\n",
    "\n",
    "def area_triangle(base, height):\n",
    "    return 0.5 * base * height\n",
    "\n",
    "# Test the functions\n",
    "radius = 5\n",
    "length = 10\n",
    "width = 4\n",
    "base = 6\n",
    "height = 8\n",
    "\n",
    "print(f\"Area of the circle with radius {radius} is {area_circle(radius):.2f}\")\n",
    "print(f\"Area of the rectangle with length {length} and width {width} is {area_rectangle(length, width):.2f}\")\n",
    "print(f\"Area of the triangle with base {base} and height {height} is {area_triangle(base, height):.2f}\")\n"
   ]
  },
  {
   "cell_type": "code",
   "execution_count": null,
   "metadata": {},
   "outputs": [],
   "source": [
    "import math \n",
    "\n",
    "def area_circle(radius):\n",
    "    return math.pi*radius**2\n",
    "\n",
    "area_circle(10)"
   ]
  }
 ],
 "metadata": {
  "kernelspec": {
   "display_name": "Python 3",
   "language": "python",
   "name": "python3"
  },
  "language_info": {
   "codemirror_mode": {
    "name": "ipython",
    "version": 3
   },
   "file_extension": ".py",
   "mimetype": "text/x-python",
   "name": "python",
   "nbconvert_exporter": "python",
   "pygments_lexer": "ipython3",
   "version": "3.12.3"
  }
 },
 "nbformat": 4,
 "nbformat_minor": 2
}
