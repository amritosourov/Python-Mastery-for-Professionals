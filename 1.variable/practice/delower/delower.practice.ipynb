{
 "cells": [
  {
   "cell_type": "markdown",
   "metadata": {},
   "source": [
    "1. what is variable?\n",
    "\n",
    "Variables are fundamental elements in programming used to store, manage, and manipulate data. "
   ]
  },
  {
   "cell_type": "markdown",
   "metadata": {},
   "source": [
    "2. variable assignment.\n",
    "\n",
    "Variable assignment is the process of storing a value in a variable so that the program can use it later. In programming, variables are used to hold data that can be manipulated and referenced throughout the code."
   ]
  },
  {
   "cell_type": "code",
   "execution_count": null,
   "metadata": {},
   "outputs": [],
   "source": [
    "x = 5  # here x is variables and 5 is the assigned value . \n",
    "\n",
    "\n",
    "# in right side (name),(age),(items) is a value and in left side (Alice),(30),([1,2,3]) is the value\n",
    "\n",
    "name = \"Alice\"   \n",
    "age = 30\n",
    "items = [1, 2, 3]"
   ]
  },
  {
   "cell_type": "markdown",
   "metadata": {},
   "source": [
    "3. variables Reassignment\n",
    "\n",
    "Variable reassignment is the process of assigning a new value to a variable that has already been assigned a value. This allows you to update or change the value stored in the variable as your program runs."
   ]
  },
  {
   "cell_type": "code",
   "execution_count": null,
   "metadata": {},
   "outputs": [],
   "source": [
    "x = 5   # Initial assignment\n",
    "print(x) # Outputs: 5\n",
    "\n",
    "x = 10  # Reassignment\n",
    "print(x) # Outputs: 10"
   ]
  },
  {
   "cell_type": "code",
   "execution_count": null,
   "metadata": {},
   "outputs": [],
   "source": [
    "name = \"Alice\"\n",
    "print(name) # Outputs: Alice\n",
    "\n",
    "name = \"Bob\"\n",
    "print(name) # Outputs: Bob\n",
    "\n",
    "items = [1, 2, 3]\n",
    "print(items) # Outputs: [1, 2, 3]\n",
    "\n",
    "items = [4, 5, 6]\n",
    "print(items) # Outputs: [4, 5, 6]"
   ]
  },
  {
   "cell_type": "markdown",
   "metadata": {},
   "source": [
    "4. What is  Multiple Assignment?\n",
    "\n",
    "Multiple assignment is a feature in many programming languages that allows you to assign values to multiple variables simultaneously. This can make your code more concise and easier to read."
   ]
  },
  {
   "cell_type": "code",
   "execution_count": null,
   "metadata": {},
   "outputs": [],
   "source": [
    "a, b, c = 1, 2, 3\n",
    "\n",
    "\"\"\"\n",
    "a is assigned the value 1\n",
    "b is assigned the value 2\n",
    "c is assigned the value 3\n",
    "\"\"\""
   ]
  },
  {
   "cell_type": "code",
   "execution_count": null,
   "metadata": {},
   "outputs": [],
   "source": [
    "x, y = 5, 10\n",
    "x, y = y, x \n",
    "\n",
    "print(x)  # output : 10\n",
    "print(y)  # output : 5 \n",
    "\n",
    "values = (4, 5, 6)\n",
    "a, b, c = values\n",
    "\n",
    "print(a)  #output : 4 \n",
    "print(b)  #output : 5 \n",
    "print(c)  #output : 6"
   ]
  },
  {
   "cell_type": "markdown",
   "metadata": {},
   "source": [
    "5. Augmented Assignment \n",
    "\n",
    "Augmented assignment is a type of assignment operation that combines a binary operation and an assignment. Instead of writing the operation and then the assignment separately, you can do both at once. This makes the code more concise and often easier to read"
   ]
  },
  {
   "cell_type": "code",
   "execution_count": null,
   "metadata": {},
   "outputs": [],
   "source": [
    "# Addition Assignment(+=) \n",
    "\n",
    "x = 5 \n",
    "x += 3 # Equivalent to x = x + 3\n",
    "print(x)"
   ]
  },
  {
   "cell_type": "code",
   "execution_count": null,
   "metadata": {},
   "outputs": [],
   "source": [
    "#Subtraction Assignment (-=)\n",
    "\n",
    "y = 10 \n",
    "y -= 5 # Equivalent to y = y - 5 \n",
    "\n",
    "print(y) # output : 5"
   ]
  },
  {
   "cell_type": "code",
   "execution_count": null,
   "metadata": {},
   "outputs": [],
   "source": [
    "# Multiplication Assignment (*=) \n",
    "\n",
    "x = 7 \n",
    "\n",
    "x *= 3  #Equivalent to x = x*3 \n",
    "\n",
    "print(x) #output: 21 "
   ]
  },
  {
   "cell_type": "code",
   "execution_count": null,
   "metadata": {},
   "outputs": [],
   "source": [
    "# Divition Assignment (/=) \n",
    "\n",
    "x = 20 \n",
    "\n",
    "x /= 4   #Equivalent to x = x/4 \n",
    "\n",
    "print(x)   # output : 5 "
   ]
  },
  {
   "cell_type": "code",
   "execution_count": null,
   "metadata": {},
   "outputs": [],
   "source": [
    "# Modulus Assignment(%=) \n",
    "\n",
    "x = 15 \n",
    "\n",
    "x %= 4  #Equivalent to x = x % 4 \n",
    "\n",
    "print(x)   #output: 3"
   ]
  },
  {
   "cell_type": "code",
   "execution_count": null,
   "metadata": {},
   "outputs": [],
   "source": [
    "# Exponentiation Assignment(**=) \n",
    "\n",
    "x = 3 \n",
    "\n",
    "x **= 3   # Equivalent to x = x**3 \n",
    "\n",
    "print(x)  #output : 27"
   ]
  },
  {
   "cell_type": "code",
   "execution_count": null,
   "metadata": {},
   "outputs": [],
   "source": [
    "# Floor Divition Assignment(//=) \n",
    "\n",
    "k = 20 \n",
    "\n",
    "k //= 3  #Equivalent to k = k//3 \n",
    "\n",
    "print(k)  #output : 6 "
   ]
  },
  {
   "cell_type": "markdown",
   "metadata": {},
   "source": [
    "6. What is variable naming rules ?\n",
    "\n",
    "        1.Start with a Letter or Underscore: Variable names must begin with a letter (A-Z, a-z) or an underscore (_). They cannot start with a digit (0-9).\n",
    "\n",
    "        valid_name = 10\n",
    "        _anotherValidName = 20\n",
    "\n",
    "        2. Use Alphanumeric Characters and Underscores: After the first character, variable names can include letters, digits, and underscores\n",
    "\n",
    "        name1 = \"Alice\"\n",
    "        my_var_2 = 5\n",
    "\n",
    "        3. No Spaces: Variable names cannot contain spaces. Use underscores (_) or camelCase to separate words.\n",
    "\n",
    "        first_name = \"Jhon\"\n",
    "        last_name = \"Doe\"\n",
    "\n",
    "        4. Case Sensitivity: Variable names are case-sensitive, meaning myVar and myvar would be considered different variables.\n",
    "\n",
    "        myVar = 5 \n",
    "        myvar = 10 \n",
    "\n",
    "        5. Avoid Reserved Keywords: Do not use language-specific reserved keywords (such as class, for, if, etc.) as variable names.\n",
    "\n",
    "        6. Descriptive Names: Use meaningful and descriptive names that indicate the purpose of the variable."
   ]
  },
  {
   "cell_type": "markdown",
   "metadata": {},
   "source": [
    "7. Variable Type : In programming, variables can hold different types of data. The type of a variable defines what kind of data it can store and what operations can be performed on it. Here are some common variable types found in programming languages:"
   ]
  },
  {
   "cell_type": "markdown",
   "metadata": {},
   "source": [
    "# Integer (int): Represents whole numbers without any fractional part.\n",
    "\n",
    "age = 30 \n",
    "count = 100 \n",
    "\n",
    "# Float (floata): Represents numbers with a fractional part.\n",
    "\n",
    "temperature = 22.5 \n",
    "pi = 3.1416\n",
    "\n",
    "\n",
    "# String(str): Represents sequences of characters, typically used for text.\n",
    "\n",
    "name = \"Alice\"  \n",
    "message = \"hello, world\"  \n",
    "\n",
    "\n",
    "# Boolean(bool): Represents a binary value indicating True or False.\n",
    "\n",
    "is_active = True \n",
    "is_logged_in = False \n",
    "\n",
    "# List: Represents an ordered collection of items, which can be of different types and mutable.\n",
    "\n",
    "numbers = [1,2,3,4,5,5]\n",
    "name = [\"Alice\",\"bob\",\"charlie\"]\n",
    "\n",
    "# Tuple: Similar to lists but immutable (cannot be changed after creation).\n",
    "\n",
    "coordinates = (10,20) \n",
    "colors = ('red','green','blue')\n",
    "\n",
    "# Dictionary:Represents a collection of key-value pairs, where each key must be unique.\n",
    "\n",
    "person = {\"name\":\"Alice\", \"age\": 30, \"city\": \"new york\"}\n",
    "\n",
    "# set:  Represents an unordered collection of unique items.\n",
    "\n",
    "unique_numbers = {1,2,3,4,5,6}\n",
    "\n",
    "# NoneType: Represents the absence of a value.\n",
    "result = None "
   ]
  },
  {
   "cell_type": "markdown",
   "metadata": {},
   "source": [
    "8. Dynamic typing //\n",
    "\n",
    "Ans: Dynamic typing in Python is a feature where the type of a variable is determined at runtime, rather than at the time the variable is declared. This means that when you declare a variable, you do not need to specify its data type; Python will automatically infer the data type based on the value assigned to the variable."
   ]
  },
  {
   "cell_type": "code",
   "execution_count": null,
   "metadata": {},
   "outputs": [],
   "source": [
    "x = 10  # x is an integer\n",
    "print(type(x))    #class 'int'  \n",
    "\n",
    "x = \"hello\"   # x is an string\n",
    "print(type(x))     #class \"string\"   \n",
    "\n",
    "x = 3.24  #x is a float \n",
    "print(type(x))     #class \"float\"   "
   ]
  },
  {
   "cell_type": "markdown",
   "metadata": {},
   "source": [
    "9. Type conversion (casting) .\n",
    "\n",
    "Ans: \n",
    "In Python, type conversion, also known as type casting, is the process of converting a value from one data type to another. This can be done either implicitly by Python itself or explicitly by the programmer."
   ]
  },
  {
   "cell_type": "code",
   "execution_count": null,
   "metadata": {},
   "outputs": [],
   "source": [
    "a = 10.7 \n",
    "b = int(a)  #it convert to  integer from float.\n",
    "print(b) \n",
    "\n",
    "c = 5 \n",
    "d = float(c)  #it convert to flaot from integer \n",
    "print(d) \n",
    "\n",
    "e = 123\n",
    "f = str(e)\n",
    "print(f) \n",
    "print(type(f))   #out put: str.\n",
    "\n",
    "k = 1,3,4,5,6\n",
    "l = tuple(k) \n",
    "print(l)              #output: (1,3,4,5,6)\n",
    "\n",
    "m = list(k) \n",
    "print(m)           #output:[1,3,4,5,6]\n",
    "\n",
    "n = \"123456\"\n",
    "o = int(n) \n",
    "print(o) "
   ]
  },
  {
   "cell_type": "markdown",
   "metadata": {},
   "source": [
    "10. None type :\n",
    "\n",
    "Ans:In Python, None is a special constant that represents the absence of a value or a null value. It is an object of its own datatype, the NoneType. A variable that is assigned None is often referred to as a \"None type variable\". It is commonly used to signify that a variable does not have a valid value."
   ]
  },
  {
   "cell_type": "code",
   "execution_count": null,
   "metadata": {},
   "outputs": [],
   "source": [
    "#Type:\n",
    "x = None \n",
    "print(type(x))   #output: <class 'NoneType'>\n",
    "\n",
    "#Singleton:\n",
    "print(None is None)   #output: True\n",
    "\n",
    "#Falsy: \n",
    "if not None:\n",
    "    print(\"none is considered False\")  #this will be printed"
   ]
  },
  {
   "cell_type": "code",
   "execution_count": null,
   "metadata": {},
   "outputs": [],
   "source": [
    "#common uses of none:\n",
    "\n",
    "def func(value=None):\n",
    "    if value is None: \n",
    "        value = [] \n",
    "    value.append(1) \n",
    "    return value \n",
    "print(func())  #output: [1] "
   ]
  },
  {
   "cell_type": "markdown",
   "metadata": {},
   "source": [
    "11. Variable Scope:\n",
    "\n",
    "Ans:\n",
    "In Python, variable scope refers to the region of the code where a variable is accessible and valid. The scope of a variable determines where that variable can be used.\n",
    "\n",
    "Types of Scope: \n",
    "python has four types of Scopes:\n",
    "\n",
    "1. Local Scope\n",
    "2. Enclosing Scope\n",
    "3. Global Scope\n",
    "4. Built-in Scope"
   ]
  },
  {
   "cell_type": "code",
   "execution_count": null,
   "metadata": {},
   "outputs": [],
   "source": [
    "#Local Scope: \n",
    "\n",
    "\"\"\"In Python, local scope refers to the area within a function where variables are defined and \n",
    "accessible only within that function. Variables created inside a function are known as local variables.\n",
    " These variables exist only during the execution of the function and are not accessible outside of it.\"\"\"\n",
    "\n",
    "\n",
    "def  my_fucntion():\n",
    "    x = 10                   # Local Scope\n",
    "    print(x) \n",
    "\n",
    "my_fucntion()        #output: 10\n",
    "\n",
    "print(x)"
   ]
  }
 ],
 "metadata": {
  "language_info": {
   "name": "python"
  }
 },
 "nbformat": 4,
 "nbformat_minor": 2
}
