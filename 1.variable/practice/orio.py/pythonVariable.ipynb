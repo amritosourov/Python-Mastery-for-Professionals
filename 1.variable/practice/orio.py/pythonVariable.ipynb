{
 "cells": [
  {
   "cell_type": "code",
   "execution_count": null,
   "metadata": {},
   "outputs": [],
   "source": [
    "X = \"Hello World\"\n",
    "string=X\n",
    "Print=string\n",
    "again=Print\n",
    "print(again)\n",
    "\n",
    "\n",
    "\n",
    "NumOfBooks=50\n",
    "Price=60\n",
    "total= NumOfBooks * Price\n",
    "print('Total price is',total)\n",
    "\n",
    "\n",
    "\n",
    "\n",
    "Name =input(\"Enter your name,:\")\n",
    "print('your name is',Name)\n",
    "Eng,Bang,Math=96,99,92\n",
    "print('your English mark is',Eng )\n",
    "print('your Bangla mark is',Bang)\n",
    "print('Your math mark is',Math)\n",
    "\n",
    "\n",
    "\n",
    "num1=18\n",
    "num2=10\n",
    "num3=num2\n",
    "num4=num1\n",
    "total=num1+num2+num3+num4\n",
    "print('Total number is',total )\n",
    "\n",
    "\n",
    "\n",
    "name,age,height=\"orio\",17,6\n",
    "print('My Name, Age and Height is:',name,age,height)"
   ]
  },
  {
   "cell_type": "code",
   "execution_count": null,
   "metadata": {},
   "outputs": [],
   "source": []
  }
 ],
 "metadata": {
  "kernelspec": {
   "display_name": "Python 3",
   "language": "python",
   "name": "python3"
  },
  "language_info": {
   "codemirror_mode": {
    "name": "ipython",
    "version": 3
   },
   "file_extension": ".py",
   "mimetype": "text/x-python",
   "name": "python",
   "nbconvert_exporter": "python",
   "pygments_lexer": "ipython3",
   "version": "3.12.4"
  }
 },
 "nbformat": 4,
 "nbformat_minor": 2
}
