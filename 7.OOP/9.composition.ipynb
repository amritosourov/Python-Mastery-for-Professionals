{
 "cells": [
  {
   "cell_type": "markdown",
   "metadata": {},
   "source": [
    "## Composition"
   ]
  },
  {
   "cell_type": "code",
   "execution_count": null,
   "metadata": {},
   "outputs": [],
   "source": [
    "class Engine:\n",
    "    def start(self):\n",
    "        print(\"Engine started\")\n",
    "\n",
    "class Car:\n",
    "    def __init__(self, model):\n",
    "        self.model = model\n",
    "        self.engine = Engine()  # Composition: Car has an Engine\n",
    "\n",
    "    def start(self):\n",
    "        self.engine.start()\n",
    "        print(f\"{self.model} started\")\n",
    "\n",
    "# Usage\n",
    "my_car = Car(\"Toyota\")\n",
    "my_car.start()\n",
    "# Output:\n",
    "# Engine started\n",
    "# Toyota started\n"
   ]
  },
  {
   "cell_type": "code",
   "execution_count": 1,
   "metadata": {},
   "outputs": [
    {
     "name": "stdout",
     "output_type": "stream",
     "text": [
      "190000\n"
     ]
    }
   ],
   "source": [
    "class Salary:\n",
    "    def __init__(self, pay, bonus):\n",
    "        self.pay = pay\n",
    "        self.bonus = bonus\n",
    "\n",
    "    def annual_salary(self):\n",
    "        return (self.pay * 12) + self.bonus\n",
    "    \n",
    "class Employee:\n",
    "    def __init__(self, name, age, pay, bonus):\n",
    "        self.name = name\n",
    "        self.age = age\n",
    "        self.obj_salary = Salary(pay, bonus)\n",
    "\n",
    "    def total_salary(self):\n",
    "        return self.obj_salary.annual_salary()\n",
    "    \n",
    "emp = Employee('Rahim', 25, 15000, 10000)\n",
    "print(emp.total_salary())"
   ]
  },
  {
   "cell_type": "markdown",
   "metadata": {},
   "source": [
    "## Aggregation"
   ]
  },
  {
   "cell_type": "code",
   "execution_count": null,
   "metadata": {},
   "outputs": [],
   "source": [
    "class Salary:\n",
    "    def __init__(self, pay, bonus):\n",
    "        self.pay = pay\n",
    "        self.bonus = bonus\n",
    "\n",
    "    def annual_salary(self):\n",
    "        return (self.pay * 12) + self.bonus\n",
    "    \n",
    "class Employee:\n",
    "    def __init__(self, name,age, salary):\n",
    "        self.name = name\n",
    "        self.age = age\n",
    "        self.obj_salary = salary\n",
    "\n",
    "    def total_salary(self):\n",
    "            return self.obj_salary.annual_salary()\n",
    "\n",
    "salary = Salary(15000, 10000)\n",
    "\n",
    "emp = Employee('Rahim', 25, salary)\n",
    "\n",
    "print(emp.total_salary())\n"
   ]
  },
  {
   "cell_type": "code",
   "execution_count": null,
   "metadata": {},
   "outputs": [],
   "source": [
    "class Wheel:\n",
    "    def rotate(self):\n",
    "        print(\"Wheel rotating\")\n",
    "\n",
    "class Car:\n",
    "    def __init__(self, model, wheels):\n",
    "        self.model = model\n",
    "        self.wheels = wheels  # Aggregation: Car has Wheels\n",
    "\n",
    "    def drive(self):\n",
    "        for wheel in self.wheels:\n",
    "            wheel.rotate()\n",
    "        print(f\"{self.model} driving\")\n",
    "\n",
    "# Usage\n",
    "wheel1 = Wheel()\n",
    "wheel2 = Wheel()\n",
    "wheel3 = Wheel()\n",
    "wheel4 = Wheel()\n",
    "\n",
    "my_car = Car(\"Toyota\", [wheel1, wheel2, wheel3, wheel4])\n",
    "my_car.drive()\n",
    "# Output:\n",
    "# Wheel rotating\n",
    "# Wheel rotating\n",
    "# Wheel rotating\n",
    "# Wheel rotating\n",
    "# Toyota driving\n"
   ]
  }
 ],
 "metadata": {
  "kernelspec": {
   "display_name": "env",
   "language": "python",
   "name": "python3"
  },
  "language_info": {
   "codemirror_mode": {
    "name": "ipython",
    "version": 3
   },
   "file_extension": ".py",
   "mimetype": "text/x-python",
   "name": "python",
   "nbconvert_exporter": "python",
   "pygments_lexer": "ipython3",
   "version": "3.10.12"
  }
 },
 "nbformat": 4,
 "nbformat_minor": 2
}
