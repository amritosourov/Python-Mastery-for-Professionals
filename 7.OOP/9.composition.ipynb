{
 "cells": [
  {
   "cell_type": "markdown",
   "metadata": {},
   "source": [
    "## Composition"
   ]
  },
  {
   "cell_type": "code",
   "execution_count": null,
   "metadata": {},
   "outputs": [],
   "source": [
    "class Engine:\n",
    "    def start(self):\n",
    "        print(\"Engine started\")\n",
    "\n",
    "class Car:\n",
    "    def __init__(self, model):\n",
    "        self.model = model\n",
    "        self.engine = Engine()  # Composition: Car has an Engine\n",
    "\n",
    "    def start(self):\n",
    "        self.engine.start()\n",
    "        print(f\"{self.model} started\")\n",
    "\n",
    "# Usage\n",
    "my_car = Car(\"Toyota\")\n",
    "my_car.start()\n",
    "# Output:\n",
    "# Engine started\n",
    "# Toyota started\n"
   ]
  },
  {
   "cell_type": "markdown",
   "metadata": {},
   "source": [
    "## Aggregation"
   ]
  },
  {
   "cell_type": "code",
   "execution_count": null,
   "metadata": {},
   "outputs": [],
   "source": [
    "class Wheel:\n",
    "    def rotate(self):\n",
    "        print(\"Wheel rotating\")\n",
    "\n",
    "class Car:\n",
    "    def __init__(self, model, wheels):\n",
    "        self.model = model\n",
    "        self.wheels = wheels  # Aggregation: Car has Wheels\n",
    "\n",
    "    def drive(self):\n",
    "        for wheel in self.wheels:\n",
    "            wheel.rotate()\n",
    "        print(f\"{self.model} driving\")\n",
    "\n",
    "# Usage\n",
    "wheel1 = Wheel()\n",
    "wheel2 = Wheel()\n",
    "wheel3 = Wheel()\n",
    "wheel4 = Wheel()\n",
    "\n",
    "my_car = Car(\"Toyota\", [wheel1, wheel2, wheel3, wheel4])\n",
    "my_car.drive()\n",
    "# Output:\n",
    "# Wheel rotating\n",
    "# Wheel rotating\n",
    "# Wheel rotating\n",
    "# Wheel rotating\n",
    "# Toyota driving\n"
   ]
  }
 ],
 "metadata": {
  "language_info": {
   "name": "python"
  }
 },
 "nbformat": 4,
 "nbformat_minor": 2
}
