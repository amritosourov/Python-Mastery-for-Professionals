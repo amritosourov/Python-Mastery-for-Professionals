{
 "cells": [
  {
   "cell_type": "code",
   "execution_count": null,
   "metadata": {},
   "outputs": [],
   "source": [
    "class French:\n",
    "    def say_hello(self):\n",
    "        print(\"Bonjour\")\n",
    "\n",
    "class Spanish:\n",
    "    def say_hello(self):\n",
    "        print(\"Hola\")\n",
    "\n",
    "def intro(lang):\n",
    "    lang.say_hello()\n",
    "\n",
    "karim = French()\n",
    "rahim = Spanish()\n",
    "\n",
    "intro(karim)\n",
    "intro(rahim)"
   ]
  },
  {
   "cell_type": "code",
   "execution_count": null,
   "metadata": {},
   "outputs": [],
   "source": [
    "class Language:\n",
    "    def say_hello(self):\n",
    "        raise NotImplementedError(\"Please use say_hello in child class\")\n",
    "    \n",
    "class French(Language):\n",
    "    def say_hello(self):\n",
    "        print(\"Bonjour\")\n",
    "\n",
    "class Spanish(Language):\n",
    "    def say_hello(self):\n",
    "        print(\"Hola\")\n",
    "\n",
    "def intro(lang):\n",
    "    lang.say_hello()\n",
    "\n",
    "karim = French()\n",
    "rahim = Spanish()\n",
    "\n",
    "intro(karim)\n",
    "intro(rahim)"
   ]
  }
 ],
 "metadata": {
  "kernelspec": {
   "display_name": "env",
   "language": "python",
   "name": "python3"
  },
  "language_info": {
   "codemirror_mode": {
    "name": "ipython",
    "version": 3
   },
   "file_extension": ".py",
   "mimetype": "text/x-python",
   "name": "python",
   "nbconvert_exporter": "python",
   "pygments_lexer": "ipython3",
   "version": "3.10.12"
  }
 },
 "nbformat": 4,
 "nbformat_minor": 2
}
