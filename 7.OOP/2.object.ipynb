{
 "cells": [
  {
   "cell_type": "code",
   "execution_count": null,
   "metadata": {},
   "outputs": [],
   "source": [
    "class Person:\n",
    "    def action(self):\n",
    "        print(\"Eat\")\n",
    "\n",
    "mehedi = Person()\n",
    "\n",
    "print(mehedi.action())"
   ]
  },
  {
   "cell_type": "code",
   "execution_count": null,
   "metadata": {},
   "outputs": [],
   "source": [
    "class Person:\n",
    "    \n",
    "    def action(self):\n",
    "        print(\"Eat\")\n",
    "\n",
    "mehedi = Person()\n",
    "\n",
    "print(mehedi.action())"
   ]
  },
  {
   "cell_type": "code",
   "execution_count": null,
   "metadata": {},
   "outputs": [],
   "source": [
    "class Enemy:\n",
    "    life = 3\n",
    "\n",
    "    def attack(self):\n",
    "        print(\"ouch!\")\n",
    "        self.life -= 1\n",
    "\n",
    "    def checkLife(self):\n",
    "        if self.life <= 0:\n",
    "            print(\"I am dead\")\n",
    "        else:\n",
    "            print(\"I am alive and I have\", self.life, \"life\")\n",
    "\n",
    "enemy1 = Enemy()\n",
    "enemy2 = Enemy()\n",
    "\n",
    "enemy1.attack()\n",
    "enemy1.checkLife()\n",
    "enemy1.attack()\n",
    "enemy1.checkLife()"
   ]
  },
  {
   "cell_type": "markdown",
   "metadata": {},
   "source": [
    "## Data Class"
   ]
  },
  {
   "cell_type": "code",
   "execution_count": null,
   "metadata": {},
   "outputs": [],
   "source": [
    "from dataclasses import dataclass\n",
    "\n",
    "@dataclass\n",
    "class Person:\n",
    "    name: str\n",
    "    age: int\n",
    "    email: str\n",
    "\n",
    "person = Person(name=\"Alice\", age=30, email=\"alice@example.com\")\n",
    "\n",
    "print(person.name)  # Output: Alice\n",
    "print(person.age)   # Output: 30\n",
    "print(person.email) # Output: alice@example.com\n",
    "\n",
    "print(person)  # Output: Person(name='Alice', age=30, email='alice@example.com')"
   ]
  }
 ],
 "metadata": {
  "kernelspec": {
   "display_name": "env",
   "language": "python",
   "name": "python3"
  },
  "language_info": {
   "codemirror_mode": {
    "name": "ipython",
    "version": 3
   },
   "file_extension": ".py",
   "mimetype": "text/x-python",
   "name": "python",
   "nbconvert_exporter": "python",
   "pygments_lexer": "ipython3",
   "version": "3.10.12"
  }
 },
 "nbformat": 4,
 "nbformat_minor": 2
}
