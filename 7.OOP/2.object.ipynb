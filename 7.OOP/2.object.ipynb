{
 "cells": [
  {
   "cell_type": "code",
   "execution_count": null,
   "metadata": {},
   "outputs": [],
   "source": [
    "class Person:\n",
    "    def action(self):\n",
    "        print(\"Eat\")\n",
    "\n",
    "mehedi = Person()\n",
    "\n",
    "print(mehedi.action())"
   ]
  },
  {
   "cell_type": "code",
   "execution_count": null,
   "metadata": {},
   "outputs": [],
   "source": [
    "class Person:\n",
    "    def __init__(self, name):\n",
    "        self.name = name\n",
    "\n",
    "    life = 4\n",
    "\n",
    "print(Person.life)\n",
    "\n",
    "p1 = Person(\"Jodu\")\n",
    "print(p1.life)\n",
    "print(p1.name)"
   ]
  },
  {
   "cell_type": "code",
   "execution_count": null,
   "metadata": {},
   "outputs": [],
   "source": [
    "class Person:\n",
    "    def __init__(self, hand=2, finger=5, head= 1):\n",
    "        self.hand = hand\n",
    "        self.head = head\n",
    "        self.finger = finger\n",
    "\n",
    "    def action(self):\n",
    "        print(\"Eat\")\n",
    "\n",
    "mehedi = Person()\n",
    "print(mehedi.action())\n",
    "\n",
    "orio = Person(finger=6)\n",
    "print(orio.finger)\n",
    "print(orio.hand)\n",
    "\n",
    "print(mehedi.finger)"
   ]
  },
  {
   "cell_type": "code",
   "execution_count": null,
   "metadata": {},
   "outputs": [],
   "source": [
    "class Enemy:\n",
    "    life = 3\n",
    "\n",
    "    def attack(self):\n",
    "        print(\"ouch!\")\n",
    "        self.life -= 1\n",
    "\n",
    "    def checkLife(self):\n",
    "        if self.life <= 0:\n",
    "            print(\"I am dead\")\n",
    "        else:\n",
    "            print(\"I am alive and I have\", self.life, \"life\")\n",
    "\n",
    "enemy1 = Enemy()\n",
    "enemy2 = Enemy()\n",
    "\n",
    "enemy1.attack()\n",
    "enemy1.checkLife()\n",
    "enemy1.attack()\n",
    "enemy1.checkLife()"
   ]
  },
  {
   "cell_type": "markdown",
   "metadata": {},
   "source": [
    "## Modifying Attributes"
   ]
  },
  {
   "cell_type": "code",
   "execution_count": null,
   "metadata": {},
   "outputs": [],
   "source": [
    "# Direct modification of attributes\n",
    "class Person:\n",
    "    def __init__(self, name, age):\n",
    "        self.name = name\n",
    "        self.age = age\n",
    "\n",
    "# Create an instance of the Person class\n",
    "person = Person(\"Alice\", 30)\n",
    "\n",
    "# Modify attributes directly\n",
    "person.name = \"Bob\"\n",
    "person.age = 25\n",
    "\n",
    "print(person.name)  # Output: Bob\n",
    "print(person.age)   # Output: 25\n"
   ]
  },
  {
   "cell_type": "code",
   "execution_count": null,
   "metadata": {},
   "outputs": [],
   "source": [
    "# Using Methods (Encapsulation)\n",
    "class Person:\n",
    "    def __init__(self, name, age):\n",
    "        self.__name = name\n",
    "        self.__age = age\n",
    "\n",
    "    # Getter for name\n",
    "    def get_name(self):\n",
    "        return self.__name\n",
    "\n",
    "    # Setter for name\n",
    "    def set_name(self, name):\n",
    "        self.__name = name\n",
    "\n",
    "    # Getter for age\n",
    "    def get_age(self):\n",
    "        return self.__age\n",
    "\n",
    "    # Setter for age with validation\n",
    "    def set_age(self, age):\n",
    "        if age > 0:\n",
    "            self.__age = age\n",
    "        else:\n",
    "            print(\"Age must be positive\")\n",
    "\n",
    "# Create an instance of the Person class\n",
    "person = Person(\"Alice\", 30)\n",
    "\n",
    "# Modify attributes using methods\n",
    "person.set_name(\"Bob\")\n",
    "person.set_age(25)\n",
    "\n",
    "print(person.get_name())  # Output: Bob\n",
    "print(person.get_age())   # Output: 25\n",
    "\n",
    "# Attempt to set a negative age\n",
    "person.set_age(-5)        # Output: Age must be positive\n"
   ]
  },
  {
   "cell_type": "code",
   "execution_count": null,
   "metadata": {},
   "outputs": [],
   "source": [
    "# Using Properties\n",
    "class Person:\n",
    "    def __init__(self, name, age):\n",
    "        self._name = name\n",
    "        self._age = age\n",
    "\n",
    "    @property\n",
    "    def name(self):\n",
    "        return self._name\n",
    "\n",
    "    @name.setter\n",
    "    def name(self, value):\n",
    "        self._name = value\n",
    "\n",
    "    @property\n",
    "    def age(self):\n",
    "        return self._age\n",
    "\n",
    "    @age.setter\n",
    "    def age(self, value):\n",
    "        if value > 0:\n",
    "            self._age = value\n",
    "        else:\n",
    "            raise ValueError(\"Age must be positive\")\n",
    "\n",
    "# Create an instance of the Person class\n",
    "person = Person(\"Alice\", 30)\n",
    "\n",
    "# Modify attributes using properties\n",
    "person.name = \"Bob\"\n",
    "person.age = 25\n",
    "\n",
    "print(person.name)  # Output: Bob\n",
    "print(person.age)   # Output: 25\n",
    "\n",
    "# Attempt to set a negative age\n",
    "try:\n",
    "    person.age = -5  # Raises ValueError\n",
    "except ValueError as e:\n",
    "    print(e)         # Output: Age must be positive\n"
   ]
  },
  {
   "cell_type": "markdown",
   "metadata": {},
   "source": [
    "## Data Class"
   ]
  },
  {
   "cell_type": "code",
   "execution_count": null,
   "metadata": {},
   "outputs": [],
   "source": [
    "from dataclasses import dataclass\n",
    "\n",
    "@dataclass\n",
    "class Person:\n",
    "    name: str\n",
    "    age: int\n",
    "    email: str\n",
    "\n",
    "person = Person(name=\"Alice\", age=30, email=\"alice@example.com\")\n",
    "\n",
    "print(person.name)  # Output: Alice\n",
    "print(person.age)   # Output: 30\n",
    "print(person.email) # Output: alice@example.com\n",
    "\n",
    "print(person)  # Output: Person(name='Alice', age=30, email='alice@example.com')"
   ]
  }
 ],
 "metadata": {
  "kernelspec": {
   "display_name": "env",
   "language": "python",
   "name": "python3"
  },
  "language_info": {
   "codemirror_mode": {
    "name": "ipython",
    "version": 3
   },
   "file_extension": ".py",
   "mimetype": "text/x-python",
   "name": "python",
   "nbconvert_exporter": "python",
   "pygments_lexer": "ipython3",
   "version": "3.10.12"
  }
 },
 "nbformat": 4,
 "nbformat_minor": 2
}
