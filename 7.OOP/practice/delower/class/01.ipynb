{
 "cells": [
  {
   "cell_type": "code",
   "execution_count": null,
   "metadata": {},
   "outputs": [],
   "source": [
    "class Student: \n",
    "    name =\" \"\n",
    "    roll = \" \" \n",
    "    gpa = \" \"\n",
    "\n",
    "rahim = Student() \n",
    "rahim.name = \"Rahim\"\n",
    "rahim.roll = 23\n",
    "rahim.gpa = 3.34 \n",
    "print(f\" Name: {rahim.name} , Roll: {rahim.roll}, GPA: {rahim.gpa}\") \n",
    "\n",
    "\n",
    "karim = Student() \n",
    "karim.name = \"Karim\"\n",
    "karim.roll = 233\n",
    "karim.gpa = 3.343\n",
    "print(f\"Name: {karim.name} , Roll: {karim.roll}, GPA: {karim.gpa}\")"
   ]
  },
  {
   "cell_type": "code",
   "execution_count": null,
   "metadata": {},
   "outputs": [],
   "source": [
    "class DemoClass: \n",
    "    a = 10 \n",
    "\n",
    "    def sumvalue(self):\n",
    "        print(30+23)\n",
    "\n",
    "demoobject = DemoClass() \n",
    "demoobject1 = DemoClass() \n",
    "print(demoobject.a) \n",
    "print(demoobject1.a) \n",
    "demoobject.sumvalue()"
   ]
  }
 ],
 "metadata": {
  "kernelspec": {
   "display_name": "Python 3",
   "language": "python",
   "name": "python3"
  },
  "language_info": {
   "codemirror_mode": {
    "name": "ipython",
    "version": 3
   },
   "file_extension": ".py",
   "mimetype": "text/x-python",
   "name": "python",
   "nbconvert_exporter": "python",
   "pygments_lexer": "ipython3",
   "version": "3.12.3"
  }
 },
 "nbformat": 4,
 "nbformat_minor": 2
}
