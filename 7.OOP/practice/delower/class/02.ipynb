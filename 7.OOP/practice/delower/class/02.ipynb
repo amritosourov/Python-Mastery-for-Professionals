{
 "cells": [
  {
   "cell_type": "code",
   "execution_count": null,
   "metadata": {},
   "outputs": [],
   "source": [
    "class car:\n",
    "    def __init__(self, make, model, year):\n",
    "        self.make = make \n",
    "        self.model = model \n",
    "        self.year = year \n",
    "\n",
    "    def display_info(self):\n",
    "        print(f\"{self.year} {self.make} {self.year}\")\n",
    "\n",
    "my_car = car(\"Toyota\", \"corolla\", 2020) \n",
    "\n",
    "my_car.display_info()"
   ]
  },
  {
   "cell_type": "code",
   "execution_count": null,
   "metadata": {},
   "outputs": [],
   "source": [
    "class person:\n",
    "    species = \"Homo Sapiense\" \n",
    "\n",
    "    def __init__(self,name,age):\n",
    "        self.name = name \n",
    "        self.age = age \n",
    "\n",
    "    def introduce(self):\n",
    "        return f\"hello I am {self.name} and I am {self.age} years old.\" \n",
    "    \n",
    "    def is_adult(self):\n",
    "        return self.age >= 18 \n",
    "\n",
    "delower = person(\"Delower\", 22)\n",
    "david = person(\"David\",12)\n",
    "\n",
    "print(person.species)\n",
    "print(delower.name)\n",
    "print(delower.age)\n",
    "print(delower.introduce())\n",
    "print(delower.is_adult())\n",
    "\n",
    "\n",
    "\n",
    "print(person.species)\n",
    "print(david.name)\n",
    "print(david.age)\n",
    "print(david.introduce())\n",
    "print(david.is_adult())"
   ]
  },
  {
   "cell_type": "code",
   "execution_count": null,
   "metadata": {},
   "outputs": [],
   "source": [
    "class Car :\n",
    "    def __init__ (self, make, model, year, color):\n",
    "        self.make = make \n",
    "        self.model = model \n",
    "        self.year = year \n",
    "        self.color = color \n",
    "\n",
    "    def start(self):\n",
    "        print(f\"{self.make} {self.model} is starting\") \n",
    "\n",
    "    def stop(self):\n",
    "        print(f\"{self.make} {self.model} is stopping\") \n",
    "\n",
    "    def drive(self):\n",
    "        print(f\"{self.make} {self.model} is driving\") \n",
    "\n",
    "Toyota = Car(\"Toyota\", \"Colora\", 2020, \"Blue\") \n",
    "Tesla = Car(\"Tesla\", \"Model 3\", 2024, \"Pearl White Multi-coat\") \n",
    "Chevrolet = Car(\"Chvrolet\", \"Camaro\", 2022, \"Red HOt\")\n",
    "\n",
    "\n",
    "print(Toyota.year)\n",
    "print(Tesla.model)\n",
    "print(Chevrolet.year)\n",
    "print(Tesla.color)\n",
    "\n",
    "Toyota.start()\n",
    "Tesla.stop()\n",
    "Chevrolet.drive()\n"
   ]
  }
 ],
 "metadata": {
  "kernelspec": {
   "display_name": "Python 3",
   "language": "python",
   "name": "python3"
  },
  "language_info": {
   "codemirror_mode": {
    "name": "ipython",
    "version": 3
   },
   "file_extension": ".py",
   "mimetype": "text/x-python",
   "name": "python",
   "nbconvert_exporter": "python",
   "pygments_lexer": "ipython3",
   "version": "3.12.3"
  }
 },
 "nbformat": 4,
 "nbformat_minor": 2
}
