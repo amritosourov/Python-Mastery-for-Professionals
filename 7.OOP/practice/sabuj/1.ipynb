{
 "cells": [
  {
   "cell_type": "code",
   "execution_count": null,
   "metadata": {
    "vscode": {
     "languageId": "plaintext"
    }
   },
   "outputs": [],
   "source": [
    "class Enemy:\n",
    "    life = 3\n",
    "    energy = 100\n",
    "print(Enemy.energy)"
   ]
  }
 ],
 "metadata": {
  "language_info": {
   "name": "python"
  }
 },
 "nbformat": 4,
 "nbformat_minor": 2
}
