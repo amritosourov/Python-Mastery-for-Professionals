{
 "cells": [
  {
   "cell_type": "code",
   "execution_count": 8,
   "metadata": {},
   "outputs": [
    {
     "name": "stdout",
     "output_type": "stream",
     "text": [
      "3\n",
      "3\n"
     ]
    }
   ],
   "source": [
    "class Enemy:\n",
    "    life = 3\n",
    "\n",
    "    @classmethod\n",
    "    def attack(cls):\n",
    "        print(cls.life)\n",
    "\n",
    "print(Enemy.life)\n",
    "\n",
    "Enemy.attack()\n"
   ]
  },
  {
   "cell_type": "code",
   "execution_count": 10,
   "metadata": {},
   "outputs": [
    {
     "name": "stdout",
     "output_type": "stream",
     "text": [
      "I'm alive\n",
      "ouch!\n",
      "ouch!\n"
     ]
    }
   ],
   "source": [
    "class Enemy:\n",
    "\n",
    "    life = 3\n",
    "\n",
    "    def attack(self):\n",
    "        print(\"ouch!\")\n",
    "        self.life -= 1\n",
    "    \n",
    "    def checkLife(self):\n",
    "        if self.life <= 0:\n",
    "            print(\"I'm dead\")\n",
    "        else:\n",
    "            print(\"I'm alive\")\n",
    "\n",
    "enemy1 = Enemy()\n",
    "\n",
    "enemy1.checkLife()\n",
    "enemy1.attack()\n",
    "\n",
    "\n",
    "enemy2 = Enemy()\n",
    "\n",
    "enemy2.attack()\n",
    "\n"
   ]
  },
  {
   "cell_type": "code",
   "execution_count": null,
   "metadata": {},
   "outputs": [],
   "source": []
  }
 ],
 "metadata": {
  "kernelspec": {
   "display_name": "env",
   "language": "python",
   "name": "python3"
  },
  "language_info": {
   "codemirror_mode": {
    "name": "ipython",
    "version": 3
   },
   "file_extension": ".py",
   "mimetype": "text/x-python",
   "name": "python",
   "nbconvert_exporter": "python",
   "pygments_lexer": "ipython3",
   "version": "3.10.12"
  }
 },
 "nbformat": 4,
 "nbformat_minor": 2
}
