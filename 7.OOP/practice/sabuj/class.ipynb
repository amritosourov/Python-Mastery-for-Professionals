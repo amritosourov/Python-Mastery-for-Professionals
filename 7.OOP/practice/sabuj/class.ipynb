{
 "cells": [
  {
   "cell_type": "code",
   "execution_count": null,
   "metadata": {},
   "outputs": [],
   "source": [
    "class Enemy:\n",
    "    life = 3\n",
    "\n",
    "    @classmethod\n",
    "    def attack(cls):\n",
    "        print(cls.life)\n",
    "\n",
    "print(Enemy.life)\n",
    "\n",
    "Enemy.attack()\n"
   ]
  },
  {
   "cell_type": "code",
   "execution_count": null,
   "metadata": {},
   "outputs": [],
   "source": [
    "class Enemy:\n",
    "\n",
    "    life = 3\n",
    "\n",
    "    def attack(self):\n",
    "        print(\"ouch!\")\n",
    "        self.life -= 1\n",
    "    \n",
    "    def checkLife(self):\n",
    "        if self.life <= 0:\n",
    "            print(\"I'm dead\")\n",
    "        else:\n",
    "            print(\"I'm alive\")\n",
    "\n",
    "enemy1 = Enemy()\n",
    "\n",
    "enemy1.checkLife()\n",
    "enemy1.attack()\n",
    "\n",
    "\n",
    "enemy2 = Enemy()\n",
    "\n",
    "enemy2.attack()\n",
    "\n"
   ]
  },
  {
   "cell_type": "code",
   "execution_count": null,
   "metadata": {},
   "outputs": [],
   "source": [
    "class Human:\n",
    "    def __init__(self, name):\n",
    "        self.name = name\n",
    "\n",
    "    hand = 2\n",
    "    leg = 2\n",
    "    head  = 1\n",
    "\n",
    "\n",
    "    \n",
    "orio = Human(\"Orio\")\n",
    "\n",
    "sabuj = Human(\"Sabuj\")\n",
    "\n",
    "\n",
    "print(orio.hand)\n",
    "\n",
    "print(sabuj.head)\n",
    "\n",
    "\n",
    "\n"
   ]
  },
  {
   "cell_type": "code",
   "execution_count": null,
   "metadata": {},
   "outputs": [],
   "source": []
  }
 ],
 "metadata": {
  "kernelspec": {
   "display_name": "env",
   "language": "python",
   "name": "python3"
  },
  "language_info": {
   "codemirror_mode": {
    "name": "ipython",
    "version": 3
   },
   "file_extension": ".py",
   "mimetype": "text/x-python",
   "name": "python",
   "nbconvert_exporter": "python",
   "pygments_lexer": "ipython3",
   "version": "3.10.12"
  }
 },
 "nbformat": 4,
 "nbformat_minor": 2
}
