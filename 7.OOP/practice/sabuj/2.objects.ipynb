{
 "cells": [
  {
   "cell_type": "code",
   "execution_count": null,
   "metadata": {},
   "outputs": [],
   "source": [
    "class Human:\n",
    "    leg = 2\n",
    "    def __init__(self, hand=2, finger=5):\n",
    "        self.hand = hand\n",
    "        self.finger = finger\n",
    "\n",
    "    def action(self):\n",
    "        print(\"I am doing something\")\n",
    "\n",
    "orio = Human()\n",
    "dipu = Human(finger=6)\n",
    "\n",
    "\n",
    "\n",
    "print(orio.hand)\n",
    "print(orio.finger)\n",
    "\n",
    "print(dipu.finger)\n",
    "\n"
   ]
  },
  {
   "cell_type": "code",
   "execution_count": null,
   "metadata": {},
   "outputs": [],
   "source": [
    "class Enemy:\n",
    "    life = 5\n",
    "\n",
    "    @classmethod\n",
    "    def cattack(cls):\n",
    "        cls.life -= 1\n",
    "    \n",
    "    def attack(self):\n",
    "        self.life -=1\n",
    "\n",
    "    def chekLife(self):\n",
    "        if self.life <= 0:\n",
    "            print(\"You lose\")\n",
    "        else:\n",
    "            print(\"You have\", self.life, \"life\")\n",
    "\n",
    "\n",
    "enemy1 = Enemy()\n",
    "enemy2 = Enemy()\n",
    "\n",
    "enemy1.attack()\n",
    "enemy1.cattack()\n",
    "\n",
    "enemy1.chekLife()\n",
    "\n",
    "enemy2.chekLife()"
   ]
  },
  {
   "cell_type": "code",
   "execution_count": null,
   "metadata": {},
   "outputs": [],
   "source": [
    "class Tarent:\n",
    "    def __init__(self):\n",
    "        self.lname = \"Mollah\"\n",
    "    def last_name(self):\n",
    "        self.lname = \"Mollah\"\n",
    "\n",
    "class Child(Tarent):\n",
    "    def __init__(self, name):\n",
    "        self.name = name\n",
    "    def firstName(self):\n",
    "        print(self.name)\n",
    "\n",
    "\n",
    "person1 = Child(\"Karim\")\n",
    "\n",
    "person1.firstName()\n",
    "person1.last_name()\n",
    "\n",
    "person2 = Tarent()\n",
    "\n",
    "person2.last_name()"
   ]
  },
  {
   "cell_type": "code",
   "execution_count": null,
   "metadata": {},
   "outputs": [],
   "source": []
  }
 ],
 "metadata": {
  "kernelspec": {
   "display_name": "env",
   "language": "python",
   "name": "python3"
  },
  "language_info": {
   "codemirror_mode": {
    "name": "ipython",
    "version": 3
   },
   "file_extension": ".py",
   "mimetype": "text/x-python",
   "name": "python",
   "nbconvert_exporter": "python",
   "pygments_lexer": "ipython3",
   "version": "3.10.12"
  }
 },
 "nbformat": 4,
 "nbformat_minor": 2
}
