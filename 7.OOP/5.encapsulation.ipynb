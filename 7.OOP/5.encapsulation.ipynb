{
 "cells": [
  {
   "cell_type": "code",
   "execution_count": 3,
   "metadata": {},
   "outputs": [
    {
     "name": "stdout",
     "output_type": "stream",
     "text": [
      "9.0\n"
     ]
    }
   ],
   "source": [
    "class Payment:\n",
    "    def __init__(self, price):\n",
    "        self.__final_price = price\n",
    "\n",
    "    def get_final_price(self):\n",
    "        return self.__final_price\n",
    "    \n",
    "    def set_final_price(self, discount):\n",
    "        if __name__ == '__main__':\n",
    "            self.__final_price = self.__final_price - self.__calculate_discount(discount)\n",
    "\n",
    "        else:\n",
    "            print(\"You are not allowed to do this\")\n",
    "    \n",
    "    def __calculate_discount(self, discount):\n",
    "        return self.__final_price * (discount/100)\n",
    "    \n",
    "book = Payment(10)\n",
    "\n",
    "book.set_final_price(10)\n",
    "\n",
    "print(book.get_final_price())"
   ]
  },
  {
   "cell_type": "code",
   "execution_count": null,
   "metadata": {},
   "outputs": [],
   "source": []
  }
 ],
 "metadata": {
  "kernelspec": {
   "display_name": "env",
   "language": "python",
   "name": "python3"
  },
  "language_info": {
   "codemirror_mode": {
    "name": "ipython",
    "version": 3
   },
   "file_extension": ".py",
   "mimetype": "text/x-python",
   "name": "python",
   "nbconvert_exporter": "python",
   "pygments_lexer": "ipython3",
   "version": "3.10.12"
  }
 },
 "nbformat": 4,
 "nbformat_minor": 2
}
